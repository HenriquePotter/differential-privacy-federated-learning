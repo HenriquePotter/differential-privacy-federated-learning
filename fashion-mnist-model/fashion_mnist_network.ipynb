{
 "cells": [
  {
   "cell_type": "code",
   "execution_count": 18,
   "metadata": {},
   "outputs": [],
   "source": [
    "import torch\n",
    "from torchvision import datasets, transforms\n",
    "import torch.nn.functional as F\n",
    "\n",
    "# define a transform to normalize the data\n",
    "transform = transforms.Compose([\n",
    "    transforms.ToTensor(),\n",
    "    transforms.Normalize([0.5], [0.5])\n",
    "])\n",
    "\n",
    "# Download and load training data\n",
    "trainset = datasets.FashionMNIST(\n",
    "    'data/FASHION_MNIST_data/', download=True, train=True, transform=transform)\n",
    "trainloader = torch.utils.data.DataLoader(trainset, batch_size=64, shuffle=True)\n",
    "\n",
    "# Download and load test data\n",
    "testset = datasets.FashionMNIST(\n",
    "    'data/FASHION_MNIST_data', download=True, train=False, transform=transform)\n",
    "testloader = torch.utils.data.DataLoader(testset, batch_size=64, shuffle=True)\n",
    "\n"
   ]
  },
  {
   "cell_type": "code",
   "execution_count": 36,
   "metadata": {},
   "outputs": [],
   "source": [
    "# Create the network, define criterion and optimizer\n",
    "from torch import nn, optim\n",
    "\n",
    "input_units = 784\n",
    "hidden_units = [256, 128, 64]\n",
    "output_units = 10\n",
    "\n",
    "model = nn.Sequential(\n",
    "    nn.Linear(input_units, hidden_units[0]),\n",
    "    nn.ReLU(),\n",
    "    nn.Linear(hidden_units[0], hidden_units[1]),\n",
    "    nn.ReLU(),\n",
    "    nn.Linear(hidden_units[1], hidden_units[2]),\n",
    "    nn.ReLU(),\n",
    "    nn.Linear(hidden_units[2], output_units),\n",
    "    nn.LogSoftmax(dim=1)\n",
    ")\n",
    "\n",
    "optimizer = optim.Adam(model.parameters(), lr=0.001)\n",
    "criterion = nn.NLLLoss()\n",
    "epochs= 5"
   ]
  },
  {
   "cell_type": "code",
   "execution_count": 37,
   "metadata": {},
   "outputs": [
    {
     "name": "stdout",
     "output_type": "stream",
     "text": [
      "Training loss: 0.5213481309666816\n",
      "Training loss: 0.3745512448664286\n",
      "Training loss: 0.33560746372032013\n",
      "Training loss: 0.3119227885723368\n",
      "Training loss: 0.29549156429607476\n"
     ]
    }
   ],
   "source": [
    "# Train the network\n",
    "for i in range(epochs):\n",
    "    running_loss = 0\n",
    "    for images, target_labels in trainloader:\n",
    "        # flatten images into 784 long vector for the input layer\n",
    "        images = images.view(images.shape[0], -1)\n",
    "        # clear gradients because they accumulate\n",
    "        optimizer.zero_grad()\n",
    "        out = model(images)\n",
    "        loss = criterion(out, target_labels)\n",
    "        # let optmizer update the parameters\n",
    "        loss.backward()\n",
    "        optimizer.step()\n",
    "        \n",
    "        running_loss += loss.item()\n",
    "    else:\n",
    "        print(f'Training loss: {running_loss/len(trainloader)}')"
   ]
  },
  {
   "cell_type": "code",
   "execution_count": 67,
   "metadata": {},
   "outputs": [],
   "source": [
    "import matplotlib.pyplot as plt\n",
    "import numpy as np\n",
    "\n",
    "def view_classification(img, probabilities):\n",
    "    \"\"\"Utility to imshow the image and its predicted classes.\"\"\"\n",
    "    ps = probabilities.data.numpy().squeeze()\n",
    "    \n",
    "    fig, (ax1, ax2) = plt.subplots(figsize=(6,9), ncols=2)\n",
    "    ax1.imshow(img.resize_(1, 28, 28).numpy().squeeze())\n",
    "    ax1.axis('off')\n",
    "    ax2.barh(np.arange(10), ps)\n",
    "    ax2.set_aspect(0.1)\n",
    "    ax2.set_yticks(np.arange(10))\n",
    "    ax2.set_yticklabels([\n",
    "        'T-shirt/top',\n",
    "        'Trouser',\n",
    "        'Pullover',\n",
    "        'Dress',\n",
    "        'Coat',\n",
    "        'Sandal',\n",
    "        'Shirt',\n",
    "        'Sneaker',\n",
    "        'Bag',\n",
    "        'Ankle Boot'\n",
    "    ], size='small');\n",
    "    ax2.set_title('Class Probability')\n",
    "    ax2.set_xlim(0, 1.1)\n",
    "    \n",
    "    plt.tight_layout()          "
   ]
  },
  {
   "cell_type": "code",
   "execution_count": 80,
   "metadata": {},
   "outputs": [
    {
     "name": "stdout",
     "output_type": "stream",
     "text": [
      "torch.Size([64, 10])\n"
     ]
    },
    {
     "data": {
      "image/png": "[encoded data removed]",
      "text/plain": [
       "<Figure size 432x648 with 2 Axes>"
      ]
     },
     "metadata": {
      "needs_background": "light"
     },
     "output_type": "display_data"
    }
   ],
   "source": [
    "# Test out the network\n",
    "dataiter = iter(testloader)\n",
    "images, labels = dataiter.next()\n",
    "img = images[1]\n",
    "# reshape images to the model input layer's liking.\n",
    "test_images = images.view(images.shape[0], -1)\n",
    "# Calculate class probabilities (softmax)\n",
    "ps = torch.exp(model(test_images))\n",
    "print(ps.shape)\n",
    "\n",
    "# plot out the image and probability distribution\n",
    "view_classification(img, ps[0])"
   ]
  },
  {
   "cell_type": "markdown",
   "metadata": {},
   "source": [
    "#### Validation\n",
    "To test for overfitting, we measure the performance of the model on data that isn't part of the training set.\n",
    "We'll use accuracy, the percentage of classes the NN predicted correctly.\n",
    "Other options are `precision and recall and top-5 error rate`.\n",
    "\n",
    "First, we do one forward pass with one batch from the test set"
   ]
  },
  {
   "cell_type": "code",
   "execution_count": 85,
   "metadata": {},
   "outputs": [
    {
     "data": {
      "text/plain": [
       "torch.Size([64, 10])"
      ]
     },
     "execution_count": 85,
     "metadata": {},
     "output_type": "execute_result"
    }
   ],
   "source": [
    "images, labels = next(iter(testloader))\n",
    "# get class probabilities (10 class probabilities for 64 examples)\n",
    "images = images.view(images.shape[0], -1)\n",
    "ps = torch.exp(model(images))\n",
    "ps.shape"
   ]
  },
  {
   "cell_type": "markdown",
   "metadata": {},
   "source": [
    "With the probabilities, we can use `ps.topk` to get the most likely class and return the `k` highest values. Since we just want the most likely class, we can use `ps.topk(1)`. This returns a tuple of top-k values and top-k indices. If the highest values is the 5th element, we'll get back 4 as the index."
   ]
  },
  {
   "cell_type": "code",
   "execution_count": 92,
   "metadata": {},
   "outputs": [
    {
     "name": "stdout",
     "output_type": "stream",
     "text": [
      "torch.Size([64, 1])\n",
      "torch.Size([64])\n"
     ]
    }
   ],
   "source": [
    "top_p, top_class = ps.topk(1, dim=1)\n",
    "print(top_class.shape)\n",
    "print (labels.shape)\n"
   ]
  },
  {
   "cell_type": "code",
   "execution_count": 96,
   "metadata": {},
   "outputs": [
    {
     "name": "stdout",
     "output_type": "stream",
     "text": [
      "Accuracy: 89.0625%\n"
     ]
    }
   ],
   "source": [
    "# check where our predicted classes match with true classes from labels\n",
    "equals = top_class == labels.view(*top_class.shape) # make sure they have the same shape\n",
    "# convert the equals byte tensor into float tensor before doing the mean\n",
    "accuracy = torch.mean(equals.type(torch.FloatTensor)) \n",
    "print(f'Accuracy: {accuracy.item()*100}%')"
   ]
  },
  {
   "cell_type": "code",
   "execution_count": null,
   "metadata": {},
   "outputs": [],
   "source": [
    "# Train the network\n",
    "epochs = 30\n",
    "steps = 0\n",
    "\n",
    "train_losses, test_losses = [], []\n",
    "for i in range(epochs):\n",
    "    running_loss = 0\n",
    "    for images, target_labels in trainloader:\n",
    "        # flatten images into 784 long vector for the input layer\n",
    "        images = images.view(images.shape[0], -1)\n",
    "        # clear gradients because they accumulate\n",
    "        optimizer.zero_grad()\n",
    "        out = model(images)\n",
    "        loss = criterion(out, target_labels)\n",
    "        # let optmizer update the parameters\n",
    "        loss.backward()\n",
    "        optimizer.step()\n",
    "        \n",
    "        running_loss += loss.item()\n",
    "    else:\n",
    "        accuracy = 0\n",
    "        test_loss = 0\n",
    "        \n",
    "        # turn off gradients for validation, saves memory and computation\n",
    "        with torch.no_grad():\n",
    "            for images, labels in testloader:\n",
    "                images = images.view(images.shape[0], -1)\n",
    "                log_ps = model(images)\n",
    "                test_loss += criterion(log_ps, labels)\n",
    "                \n",
    "                ps = torch.exp(log_ps)\n",
    "                _, top_class = ps.topk(1, dim=1)\n",
    "                equals = top_class == labels.view(*top_class.shape)\n",
    "                accuracy += torch.mean(equals.type(torch.FloatTensor))\n",
    "        \n",
    "        train_losses.append(running_loss/len(trainloader))\n",
    "        test_losses.append(test_loss/len(testloader))\n",
    "        \n",
    "        print(f'Accuracy: {accuracy/len(testloader)}')\n",
    "        print(f'Training loss: {running_loss/len(trainloader)}')\n",
    "        print(f'Test loss: {test_loss/len(testloader)}')  "
   ]
  },
  {
   "cell_type": "code",
   "execution_count": 112,
   "metadata": {},
   "outputs": [
    {
     "data": {
      "text/plain": [
       "<matplotlib.legend.Legend at 0x11f375390>"
      ]
     },
     "execution_count": 112,
     "metadata": {},
     "output_type": "execute_result"
    },
    {
     "data": {
      "image/png": "[encoded data removed]",
      "text/plain": [
       "<Figure size 432x288 with 1 Axes>"
      ]
     },
     "metadata": {
      "needs_background": "light"
     },
     "output_type": "display_data"
    }
   ],
   "source": [
    "plt.plot(train_losses, label='Training loss')\n",
    "plt.plot(test_losses, label='Validation loss')\n",
    "plt.legend(frameon=False)"
   ]
  },
  {
   "cell_type": "markdown",
   "metadata": {},
   "source": [
    "As the network gets better and better on the training data, it's actually starting to get worse on the test/validation data.\n",
    "This is because as it's learning, it's failing to generalize to data outside of that.\n",
    "This is the overfitting phenomenon at work.\n",
    "\n",
    "We should always strive to get the lowest validation loss possible. \n",
    "* Early stopping – use version of the model with the lowest validation loss (8-10 training epochs)\n",
    "* Dropout – give a drop probability, randomly drop input units, forcing the network to share imformation between weights, increasing it's ability to generalize to new data.\n"
   ]
  },
  {
   "cell_type": "markdown",
   "metadata": {},
   "source": [
    "## Network with Dropout\n",
    "During training we want to prevent overfitting using dropout. But during inference, we want to use all of our units. So we turn off the dropout using `mode.eval()`: which sets the model to evaluation mode. After calculating the validation loss and metric, we set the model back to train mode using `model.train()`"
   ]
  },
  {
   "cell_type": "code",
   "execution_count": 117,
   "metadata": {},
   "outputs": [],
   "source": [
    "from torch import nn\n",
    "\n",
    "class Classifier(nn.Module):\n",
    "    def __init__(self):\n",
    "        super().__init__()\n",
    "        self.fc1 = nn.Linear(784, 256)\n",
    "        self.fc2 = nn.Linear(256, 128)\n",
    "        self.fc3 = nn.Linear(128, 64)\n",
    "        self.fc4 = nn.Linear(64, 10)\n",
    "        \n",
    "        # Dropout module with 0.2 drop probability\n",
    "        self.dropout = nn.Dropout(p=0.2)\n",
    "        \n",
    "    def forward(self, x):\n",
    "        # make sure input tensor is flattened\n",
    "        x = x.view(x.shape[0], -1)\n",
    "        \n",
    "        x = self.dropout(F.relu(self.fc1(x)))\n",
    "        x = self.dropout(F.relu(self.fc2(x)))        \n",
    "        x = self.dropout(F.relu(self.fc3(x)))\n",
    "        \n",
    "        # output so no dropout here\n",
    "        x = F.log_softmax(self.fc4(x), dim=1)\n",
    "        return x"
   ]
  },
  {
   "cell_type": "code",
   "execution_count": 124,
   "metadata": {},
   "outputs": [
    {
     "name": "stdout",
     "output_type": "stream",
     "text": [
      "Training loss: 0.5969907244258343\n",
      "Test loss: 0.45537126064300537\n",
      "Accuracy: 0.837579607963562\n",
      "Training loss: 0.48040236235618083\n",
      "Test loss: 0.4564197361469269\n",
      "Accuracy: 0.8391719460487366\n",
      "Training loss: 0.4555375060674224\n",
      "Test loss: 0.4054587781429291\n",
      "Accuracy: 0.8566879034042358\n",
      "Training loss: 0.43134639539253483\n",
      "Test loss: 0.4160998463630676\n",
      "Accuracy: 0.849920392036438\n",
      "Training loss: 0.42371229006092687\n",
      "Test loss: 0.39617791771888733\n",
      "Accuracy: 0.8572850227355957\n",
      "Training loss: 0.4141741424227066\n",
      "Test loss: 0.41605144739151\n",
      "Accuracy: 0.8525079488754272\n",
      "Training loss: 0.4026127882254149\n",
      "Test loss: 0.41036131978034973\n",
      "Accuracy: 0.8496218323707581\n",
      "Training loss: 0.40074826791278845\n",
      "Test loss: 0.41455933451652527\n",
      "Accuracy: 0.8544983863830566\n",
      "Training loss: 0.3938264337731704\n",
      "Test loss: 0.40421757102012634\n",
      "Accuracy: 0.856289803981781\n",
      "Training loss: 0.38593607951900855\n",
      "Test loss: 0.3894609212875366\n",
      "Accuracy: 0.8673368096351624\n",
      "Training loss: 0.38743931217107186\n",
      "Test loss: 0.42503443360328674\n",
      "Accuracy: 0.8538017272949219\n",
      "Training loss: 0.3780076681201392\n",
      "Test loss: 0.3754321336746216\n",
      "Accuracy: 0.8673368096351624\n",
      "Training loss: 0.3800705683622152\n",
      "Test loss: 0.40686577558517456\n",
      "Accuracy: 0.8619625568389893\n",
      "Training loss: 0.3766767466182648\n",
      "Test loss: 0.39196550846099854\n",
      "Accuracy: 0.8647491931915283\n",
      "Training loss: 0.37004977861034083\n",
      "Test loss: 0.37305891513824463\n",
      "Accuracy: 0.8654458522796631\n",
      "Training loss: 0.36968942699846685\n",
      "Test loss: 0.39208701252937317\n",
      "Accuracy: 0.8612658977508545\n",
      "Training loss: 0.36807350244825837\n",
      "Test loss: 0.3892441391944885\n",
      "Accuracy: 0.8644506335258484\n",
      "Training loss: 0.36202541258194043\n",
      "Test loss: 0.3834351599216461\n",
      "Accuracy: 0.8691281676292419\n",
      "Training loss: 0.36551991187687366\n",
      "Test loss: 0.37415942549705505\n",
      "Accuracy: 0.8662420511245728\n",
      "Training loss: 0.3577012780791661\n",
      "Test loss: 0.3998105823993683\n",
      "Accuracy: 0.8568869233131409\n"
     ]
    }
   ],
   "source": [
    "# Initialize the network\n",
    "model = Classifier()\n",
    "criterion = nn.NLLLoss()\n",
    "optimizer = optim.Adam(model.parameters(), lr=0.003)\n",
    "\n",
    "epochs = 20\n",
    "steps = 0\n",
    "train_losses, test_losses = [], []\n",
    "\n",
    "for i in range(epochs):\n",
    "    running_loss = 0\n",
    "    for images, target_labels in trainloader:\n",
    "        # clear gradients because they accumulate\n",
    "        optimizer.zero_grad()\n",
    "        out = model(images)\n",
    "        loss = criterion(out, target_labels)\n",
    "        # let optmizer update the parameters\n",
    "        loss.backward()\n",
    "        optimizer.step()\n",
    "        \n",
    "        running_loss += loss.item()\n",
    "    else:\n",
    "        accuracy = 0\n",
    "        test_loss = 0\n",
    "        \n",
    "        # turn off gradients for validation, saves memory and computation\n",
    "        with torch.no_grad():\n",
    "            # set model to eval mode\n",
    "            model.eval()\n",
    "            for images, labels in testloader:\n",
    "                log_ps = model(images)\n",
    "                test_loss += criterion(log_ps, labels)\n",
    "                \n",
    "                ps = torch.exp(log_ps)\n",
    "                _, top_class = ps.topk(1, dim=1)\n",
    "                equals = top_class == labels.view(*top_class.shape)\n",
    "                accuracy += torch.mean(equals.type(torch.FloatTensor))\n",
    "        \n",
    "        # set model back to train mode\n",
    "        model.train() \n",
    "        \n",
    "        train_losses.append(running_loss/len(trainloader))\n",
    "        test_losses.append(test_loss/len(testloader))\n",
    "        \n",
    "        print(f'Training loss: {running_loss/len(trainloader)}')\n",
    "        print(f'Test loss: {test_loss/len(testloader)}')\n",
    "        print(f'Accuracy: {accuracy/len(testloader)}')"
   ]
  },
  {
   "cell_type": "code",
   "execution_count": 127,
   "metadata": {},
   "outputs": [
    {
     "data": {
      "text/plain": [
       "<matplotlib.legend.Legend at 0x1219dfa90>"
      ]
     },
     "execution_count": 127,
     "metadata": {},
     "output_type": "execute_result"
    },
    {
     "data": {
      "image/png": "[encoded data removed]",
      "text/plain": [
       "<Figure size 432x288 with 1 Axes>"
      ]
     },
     "metadata": {
      "needs_background": "light"
     },
     "output_type": "display_data"
    }
   ],
   "source": [
    "plt.plot(train_losses, label='Training loss')\n",
    "plt.plot(test_losses, label='Validation loss')\n",
    "plt.legend(frameon=False)"
   ]
  },
  {
   "cell_type": "markdown",
   "metadata": {},
   "source": [
    "#### Saving and loading networks\n",
    "It's impractical to create new models every time we want to train or predict.\n",
    "To save we'll use the pytorch's `torch.save()`. We can save to a file as follows:\n",
    "    "
   ]
  },
  {
   "cell_type": "code",
   "execution_count": 130,
   "metadata": {},
   "outputs": [],
   "source": [
    "torch.save(model.state_dict(), 'checkpoint.pth')"
   ]
  },
  {
   "cell_type": "code",
   "execution_count": 131,
   "metadata": {},
   "outputs": [
    {
     "name": "stdout",
     "output_type": "stream",
     "text": [
      "odict_keys(['fc1.weight', 'fc1.bias', 'fc2.weight', 'fc2.bias', 'fc3.weight', 'fc3.bias', 'fc4.weight', 'fc4.bias'])\n"
     ]
    }
   ],
   "source": [
    "# load the saved model\n",
    "state_dict = torch.load('checkpoint.pth')\n",
    "print(state_dict.keys())"
   ]
  },
  {
   "cell_type": "code",
   "execution_count": null,
   "metadata": {},
   "outputs": [],
   "source": []
  }
 ],
 "metadata": {
  "kernelspec": {
   "display_name": "Python 3",
   "language": "python",
   "name": "python3"
  },
  "language_info": {
   "codemirror_mode": {
    "name": "ipython",
    "version": 3
   },
   "file_extension": ".py",
   "mimetype": "text/x-python",
   "name": "python",
   "nbconvert_exporter": "python",
   "pygments_lexer": "ipython3",
   "version": "3.7.4"
  }
 },
 "nbformat": 4,
 "nbformat_minor": 2
}
